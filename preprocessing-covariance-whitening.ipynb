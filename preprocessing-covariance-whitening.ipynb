{
 "cells": [
  {
   "cell_type": "code",
   "execution_count": 1,
   "metadata": {},
   "outputs": [],
   "source": [
    "import numpy as np\n",
    "import matplotlib.pyplot as plt\n",
    "import seaborn as sns"
   ]
  },
  {
   "cell_type": "code",
   "execution_count": 10,
   "metadata": {},
   "outputs": [],
   "source": [
    "## co variance can also be calculated as X prime dot its transpose divded\n",
    "## by its length. X prime is X substract its mean \n",
    "def calculateCovariance(X):\n",
    "    meanX = np.mean(X, axis = 0)\n",
    "    lenX = X.shape[0]\n",
    "    X = X - meanX\n",
    "    covariance = X.T.dot(X)/lenX\n",
    "    return covariance\n",
    "\n",
    "## plot the covariance and the data itself \n",
    "## seaborn heatmap maps small values to lighter green \n",
    "def plotDataAndCov(data):\n",
    "    ACov = np.cov(data, rowvar=False, bias=True)\n",
    "    print (\"Covariance matrix:\\n\", ACov)\n",
    "\n",
    "    fig, ax = plt.subplots(nrows=1, ncols=2)\n",
    "    fig.set_size_inches(10, 10)\n",
    "\n",
    "    ax0 = plt.subplot(2, 2, 1)\n",
    "    \n",
    "    # Choosing the colors\n",
    "    cmap = sns.color_palette(\"GnBu\", 10)\n",
    "    sns.heatmap(ACov, cmap=cmap, vmin=0)\n",
    "\n",
    "    ax1 = plt.subplot(2, 2, 2)\n",
    "    \n",
    "    # data can include the colors\n",
    "    if data.shape[1]==3:\n",
    "        c=data[:,2]\n",
    "    else:\n",
    "        c=\"#0A98BE\"\n",
    "    ax1.scatter(data[:,0], data[:,1], c=c, s=40)\n",
    "    \n",
    "    # Remove the top and right axes from the data plot\n",
    "    ax1.spines['right'].set_visible(False)\n",
    "    ax1.spines['top'].set_visible(False)\n",
    "    "
   ]
  },
  {
   "cell_type": "code",
   "execution_count": 4,
   "metadata": {},
   "outputs": [],
   "source": [
    "A = np.array([[1, 3, 5], [5, 4, 1], [3, 8, 6]])"
   ]
  },
  {
   "cell_type": "code",
   "execution_count": 5,
   "metadata": {},
   "outputs": [
    {
     "data": {
      "text/plain": [
       "array([[ 2.66666667,  0.66666667, -2.66666667],\n",
       "       [ 0.66666667,  4.66666667,  2.33333333],\n",
       "       [-2.66666667,  2.33333333,  4.66666667]])"
      ]
     },
     "execution_count": 5,
     "metadata": {},
     "output_type": "execute_result"
    }
   ],
   "source": [
    "np.cov(A, rowvar=False, bias=True)"
   ]
  },
  {
   "cell_type": "code",
   "execution_count": 8,
   "metadata": {},
   "outputs": [
    {
     "data": {
      "text/plain": [
       "array([[ 2.66666667,  0.66666667, -2.66666667],\n",
       "       [ 0.66666667,  4.66666667,  2.33333333],\n",
       "       [-2.66666667,  2.33333333,  4.66666667]])"
      ]
     },
     "execution_count": 8,
     "metadata": {},
     "output_type": "execute_result"
    }
   ],
   "source": [
    "calculateCovariance(A)"
   ]
  },
  {
   "cell_type": "code",
   "execution_count": 11,
   "metadata": {},
   "outputs": [
    {
     "data": {
      "text/plain": [
       "(300, 2)"
      ]
     },
     "execution_count": 11,
     "metadata": {},
     "output_type": "execute_result"
    }
   ],
   "source": [
    "np.random.seed(1234)\n",
    "a1 = np.random.normal(2, 1, 300)\n",
    "a2 = np.random.normal(1, 1, 300)\n",
    "A = np.array([a1, a2]).T\n",
    "A.shape"
   ]
  },
  {
   "cell_type": "code",
   "execution_count": 12,
   "metadata": {},
   "outputs": [
    {
     "data": {
      "text/plain": [
       "array([[ 2.47143516,  1.52704645],\n",
       "       [ 0.80902431,  1.7111124 ],\n",
       "       [ 3.43270697,  0.78245452],\n",
       "       [ 1.6873481 ,  3.63779121],\n",
       "       [ 1.27941127, -0.74213763],\n",
       "       [ 2.88716294,  0.90556519],\n",
       "       [ 2.85958841,  2.43118375],\n",
       "       [ 1.3634765 ,  1.59275845],\n",
       "       [ 2.01569637,  1.1702969 ],\n",
       "       [-0.24268495, -0.75170595]])"
      ]
     },
     "execution_count": 12,
     "metadata": {},
     "output_type": "execute_result"
    }
   ],
   "source": [
    "A[:10,:]"
   ]
  },
  {
   "cell_type": "code",
   "execution_count": 16,
   "metadata": {},
   "outputs": [
    {
     "name": "stderr",
     "output_type": "stream",
     "text": [
      "/Users/qianyou/opt/anaconda3/envs/aiml/lib/python3.7/site-packages/seaborn/distributions.py:2551: FutureWarning: `distplot` is a deprecated function and will be removed in a future version. Please adapt your code to use either `displot` (a figure-level function with similar flexibility) or `histplot` (an axes-level function for histograms).\n",
      "  warnings.warn(msg, FutureWarning)\n",
      "/Users/qianyou/opt/anaconda3/envs/aiml/lib/python3.7/site-packages/seaborn/distributions.py:2551: FutureWarning: `distplot` is a deprecated function and will be removed in a future version. Please adapt your code to use either `displot` (a figure-level function with similar flexibility) or `histplot` (an axes-level function for histograms).\n",
      "  warnings.warn(msg, FutureWarning)\n"
     ]
    },
    {
     "data": {
      "image/png": "[encoded data removed]",
      "text/plain": [
       "<Figure size 432x288 with 1 Axes>"
      ]
     },
     "metadata": {
      "needs_background": "light"
     },
     "output_type": "display_data"
    }
   ],
   "source": [
    "sns.distplot(A[:,0], color=\"#53BB04\")\n",
    "sns.distplot(A[:,1], color=\"#0A98BE\")\n",
    "plt.show()\n",
    "plt.close()"
   ]
  },
  {
   "cell_type": "code",
   "execution_count": null,
   "metadata": {},
   "outputs": [],
   "source": []
  }
 ],
 "metadata": {
  "kernelspec": {
   "display_name": "Python 3",
   "language": "python",
   "name": "python3"
  },
  "language_info": {
   "codemirror_mode": {
    "name": "ipython",
    "version": 3
   },
   "file_extension": ".py",
   "mimetype": "text/x-python",
   "name": "python",
   "nbconvert_exporter": "python",
   "pygments_lexer": "ipython3",
   "version": "3.7.6-final"
  }
 },
 "nbformat": 4,
 "nbformat_minor": 4
}